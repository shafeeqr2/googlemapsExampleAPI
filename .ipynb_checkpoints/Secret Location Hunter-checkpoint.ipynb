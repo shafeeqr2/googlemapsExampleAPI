{
 "cells": [
  {
   "cell_type": "code",
   "execution_count": 13,
   "metadata": {},
   "outputs": [
    {
     "name": "stdout",
     "output_type": "stream",
     "text": [
      "17.42817\n"
     ]
    }
   ],
   "source": [
    "import pyrebase\n",
    "\n",
    "config = {}\n",
    "\n",
    "#Load configuration\n",
    "with open('firebase_config.txt') as fh:\n",
    "    for line in fh:\n",
    "        command, description = line.strip().split(' ', 1)\n",
    "        commands[command] = description.strip()\n",
    "\n",
    "print(config)\n",
    "        \n",
    "firebase = pyrebase.initialize_app(config)\n",
    "\n",
    "\n",
    "# Get a reference to the auth service\n",
    "auth = firebase.auth()\n",
    "\n",
    "#Temporary email for our example\n",
    "email = 'ashwath43@rgdoubtdhq.com'\n",
    "password = 'speakersofhyd'\n",
    "    \n",
    "# Log the user in\n",
    "user = auth.sign_in_with_email_and_password(email, password)\n",
    "\n",
    "# Get a reference to the database service\n",
    "db = firebase.database()\n",
    "val = db.child(\"secret_lat\").get()\n",
    "print(val.val())"
   ]
  },
  {
   "cell_type": "code",
   "execution_count": 8,
   "metadata": {},
   "outputs": [],
   "source": [
    "with open('api_key.txt') as f:\n",
    "    api_key = f.readline()\n",
    "    f.close\n"
   ]
  },
  {
   "cell_type": "code",
   "execution_count": 5,
   "metadata": {},
   "outputs": [],
   "source": [
    "import gmaps\n",
    "\n",
    "gmaps.configure(api_key=api_key)"
   ]
  },
  {
   "cell_type": "code",
   "execution_count": 15,
   "metadata": {},
   "outputs": [],
   "source": [
    "secret_place_coordinates = (17.428170, 78.442858)\n",
    "fig = gmaps.figure(center=secret_place_coordinates, zoom_level=17)\n",
    "    "
   ]
  },
  {
   "cell_type": "code",
   "execution_count": 16,
   "metadata": {},
   "outputs": [
    {
     "data": {
      "application/vnd.jupyter.widget-view+json": {
       "model_id": "9abfdae5371349e297bcc19a06f0cef9",
       "version_major": 2,
       "version_minor": 0
      },
      "text/plain": [
       "Figure(layout=FigureLayout(height='420px'))"
      ]
     },
     "metadata": {},
     "output_type": "display_data"
    }
   ],
   "source": [
    "fig"
   ]
  },
  {
   "cell_type": "code",
   "execution_count": null,
   "metadata": {},
   "outputs": [],
   "source": []
  }
 ],
 "metadata": {
  "kernelspec": {
   "display_name": "Python 3",
   "language": "python",
   "name": "python3"
  },
  "language_info": {
   "codemirror_mode": {
    "name": "ipython",
    "version": 3
   },
   "file_extension": ".py",
   "mimetype": "text/x-python",
   "name": "python",
   "nbconvert_exporter": "python",
   "pygments_lexer": "ipython3",
   "version": "3.7.6"
  }
 },
 "nbformat": 4,
 "nbformat_minor": 4
}
