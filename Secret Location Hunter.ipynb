{
 "cells": [
  {
   "cell_type": "code",
   "execution_count": 9,
   "metadata": {},
   "outputs": [],
   "source": [
    "import pyrebase\n",
    "\n",
    "config = {}\n",
    "\n",
    "# Load configuration\n",
    "with open('firebase_config.txt') as fh:\n",
    "    for line in fh:\n",
    "        command, description = line.strip().split(' ', 1)\n",
    "        config[command] = description.strip()\n",
    "        \n",
    "firebase = pyrebase.initialize_app(config)\n",
    "\n",
    "# Get a reference to the auth service\n",
    "auth = firebase.auth()\n",
    "\n",
    "#Temporary email for our example\n",
    "email = 'ashwath43@rgdoubtdhq.com'\n",
    "password = 'speakersofhyd'\n",
    "    \n",
    "# Log the user in\n",
    "user = auth.sign_in_with_email_and_password(email, password)\n",
    "\n",
    "# Get a reference to the database service\n",
    "db = firebase.database()\n",
    "\n",
    "\n"
   ]
  },
  {
   "cell_type": "code",
   "execution_count": 10,
   "metadata": {},
   "outputs": [
    {
     "name": "stdout",
     "output_type": "stream",
     "text": [
      "17.42817\n"
     ]
    }
   ],
   "source": [
    "#Get secret location lattitudeo\n",
    "lat = db.child(\"secret_lat\").get().val()\n",
    "print(lat)"
   ]
  },
  {
   "cell_type": "code",
   "execution_count": 11,
   "metadata": {},
   "outputs": [
    {
     "name": "stdout",
     "output_type": "stream",
     "text": [
      "78.442858\n"
     ]
    }
   ],
   "source": [
    "#Get secret location longitue\n",
    "long = db.child(\"secret_long\").get().val()\n",
    "print(long)"
   ]
  },
  {
   "cell_type": "code",
   "execution_count": 12,
   "metadata": {},
   "outputs": [],
   "source": [
    "# Load Google maps API key from file\n",
    "with open('api_key.txt') as f:\n",
    "    api_key = f.readline()\n",
    "    f.close\n"
   ]
  },
  {
   "cell_type": "code",
   "execution_count": 13,
   "metadata": {},
   "outputs": [],
   "source": [
    "import gmaps\n",
    "\n",
    "gmaps.configure(api_key=api_key)"
   ]
  },
  {
   "cell_type": "code",
   "execution_count": 14,
   "metadata": {},
   "outputs": [],
   "source": [
    "secret_place_coordinates = (lat, long)\n",
    "fig = gmaps.figure(center=secret_place_coordinates, zoom_level=17)\n",
    "    "
   ]
  },
  {
   "cell_type": "code",
   "execution_count": 15,
   "metadata": {},
   "outputs": [
    {
     "data": {
      "application/vnd.jupyter.widget-view+json": {
       "model_id": "6e094dc739f94be491349712465b1ad2",
       "version_major": 2,
       "version_minor": 0
      },
      "text/plain": [
       "Figure(layout=FigureLayout(height='420px'))"
      ]
     },
     "metadata": {},
     "output_type": "display_data"
    }
   ],
   "source": [
    "fig"
   ]
  },
  {
   "cell_type": "code",
   "execution_count": null,
   "metadata": {},
   "outputs": [],
   "source": []
  }
 ],
 "metadata": {
  "kernelspec": {
   "display_name": "Python 3",
   "language": "python",
   "name": "python3"
  },
  "language_info": {
   "codemirror_mode": {
    "name": "ipython",
    "version": 3
   },
   "file_extension": ".py",
   "mimetype": "text/x-python",
   "name": "python",
   "nbconvert_exporter": "python",
   "pygments_lexer": "ipython3",
   "version": "3.7.6"
  }
 },
 "nbformat": 4,
 "nbformat_minor": 4
}
